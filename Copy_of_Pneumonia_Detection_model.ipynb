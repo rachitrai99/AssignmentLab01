{
  "nbformat": 4,
  "nbformat_minor": 0,
  "metadata": {
    "colab": {
      "name": "Copy of Copy of Pneumonia Detection model.ipynb",
      "provenance": [],
      "collapsed_sections": [],
      "include_colab_link": true
    },
    "kernelspec": {
      "name": "python3",
      "display_name": "Python 3"
    }
  },
  "cells": [
    {
      "cell_type": "markdown",
      "metadata": {
        "id": "view-in-github",
        "colab_type": "text"
      },
      "source": [
        "<a href=\"https://colab.research.google.com/github/rachitrai99/AssignmentLab01/blob/master/Copy_of_Pneumonia_Detection_model.ipynb\" target=\"_parent\"><img src=\"https://colab.research.google.com/assets/colab-badge.svg\" alt=\"Open In Colab\"/></a>"
      ]
    },
    {
      "cell_type": "code",
      "metadata": {
        "id": "sZSs-1vXsq4t",
        "colab": {
          "base_uri": "https://localhost:8080/"
        },
        "outputId": "de802b19-9bf2-4a40-f665-835d97ae30d1"
      },
      "source": [
        "print(\"Hello to pneumonia detection\")"
      ],
      "execution_count": null,
      "outputs": [
        {
          "output_type": "stream",
          "text": [
            "Hello to pneumonia detection\n"
          ],
          "name": "stdout"
        }
      ]
    },
    {
      "cell_type": "code",
      "metadata": {
        "id": "3TgeY6BptZvp",
        "colab": {
          "base_uri": "https://localhost:8080/"
        },
        "outputId": "b3dfc81c-7c75-49ef-89d6-00e67d9c0f01"
      },
      "source": [
        "print(\"hi there\")"
      ],
      "execution_count": null,
      "outputs": [
        {
          "output_type": "stream",
          "text": [
            "hi there\n"
          ],
          "name": "stdout"
        }
      ]
    },
    {
      "cell_type": "code",
      "metadata": {
        "id": "E69Gtrvczwlm"
      },
      "source": [
        "print(\"hi\")"
      ],
      "execution_count": null,
      "outputs": []
    }
  ]
}